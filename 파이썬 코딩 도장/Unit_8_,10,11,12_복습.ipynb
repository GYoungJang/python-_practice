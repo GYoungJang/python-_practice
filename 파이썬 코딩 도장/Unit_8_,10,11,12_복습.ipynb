{
  "nbformat": 4,
  "nbformat_minor": 0,
  "metadata": {
    "colab": {
      "name": "Unit 8 ,10,11,12 복습.ipynb",
      "provenance": [],
      "collapsed_sections": []
    },
    "kernelspec": {
      "name": "python3",
      "display_name": "Python 3"
    },
    "language_info": {
      "name": "python"
    }
  },
  "cells": [
    {
      "cell_type": "markdown",
      "metadata": {
        "id": "VaQz2Q3WUdXN"
      },
      "source": [
        "#8.4 연습문제: 합격 여부 출력하기\n",
        "###국어, 영어, 수학, 과학 점수가 있을 때 한 과목이라도 50점 미만이면 불합격이라고 정했습니다.<br> 다음 소스 코드를 완성하여 합격이면 True, 불합격이면 False가 출력되게 만드세요.<br>"
      ]
    },
    {
      "cell_type": "code",
      "metadata": {
        "colab": {
          "base_uri": "https://localhost:8080/"
        },
        "id": "ZeZzsGkkedPD",
        "outputId": "16f20104-17d1-4907-a283-d35e4e71ff13"
      },
      "source": [
        "korean = 92\n",
        "english = 47\n",
        "mathematics = 86\n",
        "science = 81\n",
        "#실행결과 False\n",
        "\n",
        "print(korean >= 50 and english >= 50 and mathematics >= 50 and science >= 50)\n"
      ],
      "execution_count": 8,
      "outputs": [
        {
          "output_type": "stream",
          "text": [
            "False\n"
          ],
          "name": "stdout"
        }
      ]
    },
    {
      "cell_type": "markdown",
      "metadata": {
        "id": "6Vrlh7w7VBLf"
      },
      "source": [
        "#8.5 심사문제: 합격 여부 출력하기\n",
        "\n",
        "###표준 입력으로 국어, 영어, 수학, 과학 점수가 입력됩니다.<br> 국어는 90점 이상, 영어는 80점 초과, 수학은 85점 초과, 과학은 80점 이상일 때 합격이라고 정했습니다(한 과목이라도 조건에 만족하지 않으면 불합격).<br> 다음 소스 코드를 완성하여 합격이면 True, 불합격이면 False가 출력되게 만드세요(input에서 안내 문자열은 출력하지 않아야 합니다).<br>\n",
        "\n"
      ]
    },
    {
      "cell_type": "code",
      "metadata": {
        "colab": {
          "base_uri": "https://localhost:8080/"
        },
        "id": "KPDx224dSZvO",
        "outputId": "c89094ac-c3cd-4119-d857-c162b7ffa150"
      },
      "source": [
        "# ex) 90 81 86 80\n",
        "\n",
        "국어, 영어, 수학, 과학 = map(int, input().split())\n",
        "print(국어>=90 and 영어>80 and 수학>85 and 과학>=80)"
      ],
      "execution_count": 11,
      "outputs": [
        {
          "output_type": "stream",
          "text": [
            "90 81 86 80\n",
            "True\n"
          ],
          "name": "stdout"
        }
      ]
    },
    {
      "cell_type": "code",
      "metadata": {
        "colab": {
          "base_uri": "https://localhost:8080/"
        },
        "id": "vymBQZItTGBo",
        "outputId": "19f0e3cc-60bd-40ca-e1d8-01e70c84958c"
      },
      "source": [
        "90 81 86 80# ex) 90 80 85 80\n",
        "\n",
        "국어, 영어, 수학, 과학 = map(int, input().split())\n",
        "print(국어>=90 and 영어>80 and 수학>85 and 과학>=80)"
      ],
      "execution_count": 9,
      "outputs": [
        {
          "output_type": "stream",
          "text": [
            "90 80 85 80\n",
            "False\n"
          ],
          "name": "stdout"
        }
      ]
    },
    {
      "cell_type": "code",
      "metadata": {
        "colab": {
          "base_uri": "https://localhost:8080/"
        },
        "id": "6-vBPSgYl-IL",
        "outputId": "3a611ecc-1b78-4525-c2ff-3786f499a457"
      },
      "source": [
        "(3)"
      ],
      "execution_count": 60,
      "outputs": [
        {
          "output_type": "execute_result",
          "data": {
            "text/plain": [
              "3"
            ]
          },
          "metadata": {
            "tags": []
          },
          "execution_count": 60
        }
      ]
    },
    {
      "cell_type": "code",
      "metadata": {
        "colab": {
          "base_uri": "https://localhost:8080/"
        },
        "id": "tZUXHy_uoK-T",
        "outputId": "92c491a0-ead9-44d0-c111-94d09767a16f"
      },
      "source": [
        "(3,)"
      ],
      "execution_count": 61,
      "outputs": [
        {
          "output_type": "execute_result",
          "data": {
            "text/plain": [
              "(3,)"
            ]
          },
          "metadata": {
            "tags": []
          },
          "execution_count": 61
        }
      ]
    },
    {
      "cell_type": "code",
      "metadata": {
        "colab": {
          "base_uri": "https://localhost:8080/"
        },
        "id": "n177snr7oMRP",
        "outputId": "e94853d5-87fe-4994-b81d-ed89b1e9b2e5"
      },
      "source": [
        "3,"
      ],
      "execution_count": 62,
      "outputs": [
        {
          "output_type": "execute_result",
          "data": {
            "text/plain": [
              "(3,)"
            ]
          },
          "metadata": {
            "tags": []
          },
          "execution_count": 62
        }
      ]
    },
    {
      "cell_type": "markdown",
      "metadata": {
        "id": "J_tbw8Impyq1"
      },
      "source": [
        "#10.2 리스트(튜플) 패킹, 언패킹"
      ]
    },
    {
      "cell_type": "code",
      "metadata": {
        "id": "qAhH0Bv4oQIH"
      },
      "source": [
        "a = [1, 2, 3]    # 리스트 패킹\n",
        "b = (1, 2, 3)    # 튜플 패킹\n",
        "c = 1, 2, 3      # 튜플 패킹"
      ],
      "execution_count": 63,
      "outputs": []
    },
    {
      "cell_type": "code",
      "metadata": {
        "colab": {
          "base_uri": "https://localhost:8080/"
        },
        "id": "BAir9fbVqLqI",
        "outputId": "6cfc8496-6abd-4397-e2f5-8a8cff69758e"
      },
      "source": [
        "x = [1, 2, 3]     #리스트 패킹\n",
        "a, b, c = x       #리스트 언패킹 \n",
        "print(a, b, c)\n",
        "\n",
        "\n",
        "y = (4, 5, 6)     #튜플 패킹\n",
        "d, e, f = y       #튜플 언패킹\n",
        "print(d, e, f)\n"
      ],
      "execution_count": 65,
      "outputs": [
        {
          "output_type": "stream",
          "text": [
            "1 2 3\n",
            "4 5 6\n"
          ],
          "name": "stdout"
        }
      ]
    },
    {
      "cell_type": "code",
      "metadata": {
        "colab": {
          "base_uri": "https://localhost:8080/"
        },
        "id": "Pl9eC1uwrp40",
        "outputId": "61109ed9-2151-437c-a134-e21abf8731ec"
      },
      "source": [
        "input().split()    # 리스트 반환"
      ],
      "execution_count": 73,
      "outputs": [
        {
          "output_type": "stream",
          "text": [
            "10 20\n"
          ],
          "name": "stdout"
        },
        {
          "output_type": "execute_result",
          "data": {
            "text/plain": [
              "['10', '20']"
            ]
          },
          "metadata": {
            "tags": []
          },
          "execution_count": 73
        }
      ]
    },
    {
      "cell_type": "code",
      "metadata": {
        "colab": {
          "base_uri": "https://localhost:8080/"
        },
        "id": "vBXq3YkYsRtM",
        "outputId": "824e153e-c0b0-46e2-801e-f123f93edb3f"
      },
      "source": [
        "x = input().split()\n",
        "x"
      ],
      "execution_count": 76,
      "outputs": [
        {
          "output_type": "stream",
          "text": [
            "10 20\n"
          ],
          "name": "stdout"
        },
        {
          "output_type": "execute_result",
          "data": {
            "text/plain": [
              "['10', '20']"
            ]
          },
          "metadata": {
            "tags": []
          },
          "execution_count": 76
        }
      ]
    },
    {
      "cell_type": "code",
      "metadata": {
        "colab": {
          "base_uri": "https://localhost:8080/"
        },
        "id": "m8af6tKtsn3q",
        "outputId": "605fd668-3bc4-45cd-c1ff-1d9590f73366"
      },
      "source": [
        "a,b = x\n",
        "print(a, b)      # a, b = input().split() 같음"
      ],
      "execution_count": 77,
      "outputs": [
        {
          "output_type": "stream",
          "text": [
            "10 20\n"
          ],
          "name": "stdout"
        }
      ]
    },
    {
      "cell_type": "markdown",
      "metadata": {
        "id": "1lLSMkj9uoCz"
      },
      "source": [
        "#10.4 연습문제: range로 리스트 만들기\n",
        "\n",
        "###다음 소스 코드를 완성하여 리스트 [5, 3, 1, -1, -3, -5, -7, -9]가 출력되게 만드세요.<br> 리스트를 만들 때는 range를 사용해야 합니다.<br>\n",
        "\n",
        "\n",
        "-           range            \n",
        " \n",
        "- print(a)\n",
        "\n"
      ]
    },
    {
      "cell_type": "code",
      "metadata": {
        "colab": {
          "base_uri": "https://localhost:8080/"
        },
        "id": "_sP523dzudmz",
        "outputId": "d004ab53-611f-4712-b7c7-e6a9989896bf"
      },
      "source": [
        "a = list(range(5,-10,-2))\n",
        "print(a)"
      ],
      "execution_count": 79,
      "outputs": [
        {
          "output_type": "stream",
          "text": [
            "[5, 3, 1, -1, -3, -5, -7, -9]\n"
          ],
          "name": "stdout"
        }
      ]
    },
    {
      "cell_type": "code",
      "metadata": {
        "id": "I0CnWx2gvKuZ"
      },
      "source": [
        ""
      ],
      "execution_count": null,
      "outputs": []
    },
    {
      "cell_type": "markdown",
      "metadata": {
        "id": "6JIWSVMrvNNg"
      },
      "source": [
        "#10.5 심사문제: range로 튜플 만들기\n",
        "\n",
        "###표준 입력으로 정수가 입력됩니다.<br> range의 시작하는 숫자는 -10, 끝나는 숫자는 10이며 입력된 정수만큼 증가하는 숫자가 들어가도록 튜플을 만들고, 해당 튜플을 출력하는 프로그램을 만드세요(input에서 안내 문자열은 출력하지 않아야 합니다).<br>"
      ]
    },
    {
      "cell_type": "code",
      "metadata": {
        "colab": {
          "base_uri": "https://localhost:8080/"
        },
        "id": "wBpxfeAGvUZn",
        "outputId": "f75cf1ad-f56e-47a3-d622-22a57e8fbdba"
      },
      "source": [
        "number = int(input())\n",
        "a = tuple(range(-10, 10, number ))\n",
        "print(a)"
      ],
      "execution_count": 83,
      "outputs": [
        {
          "output_type": "stream",
          "text": [
            "2\n",
            "(-10, -8, -6, -4, -2, 0, 2, 4, 6, 8)\n"
          ],
          "name": "stdout"
        }
      ]
    },
    {
      "cell_type": "code",
      "metadata": {
        "colab": {
          "base_uri": "https://localhost:8080/"
        },
        "id": "IJuHXbn5wBQt",
        "outputId": "31f2b5ac-40ce-44e2-d5ab-86efd41137c4"
      },
      "source": [
        "number = int(input())\n",
        "a = tuple(range(-10, 10, number ))\n",
        "print(a)"
      ],
      "execution_count": 84,
      "outputs": [
        {
          "output_type": "stream",
          "text": [
            "3\n",
            "(-10, -7, -4, -1, 2, 5, 8)\n"
          ],
          "name": "stdout"
        }
      ]
    },
    {
      "cell_type": "markdown",
      "metadata": {
        "id": "CAueIPLbk2QF"
      },
      "source": [
        "#11.6 연습문제: 최근 3년간 인구 출력하기\n",
        "\n",
        "###리스트 year에 연도, population에 서울시 인구수가 저장되어 있습니다.<br> 다음 소스 코드를 완성하여 최근 3년간 연도와 인구수가 리스트로 출력되게 만드세요.<br>"
      ]
    },
    {
      "cell_type": "code",
      "metadata": {
        "colab": {
          "base_uri": "https://localhost:8080/"
        },
        "id": "jWG_1DvqYw_1",
        "outputId": "c33a935d-ded2-42f5-e0b1-1f9469ae2aa4"
      },
      "source": [
        "year = [2011, 2012, 2013, 2014, 2015, 2016, 2017, 2018]\n",
        "population = [10249679, 10195318, 10143645, 10103233, 10022181, 9930616, 9857426, 9838892]\n",
        "\n",
        "print(year[-3:])\n",
        "print(population[-3:])"
      ],
      "execution_count": 7,
      "outputs": [
        {
          "output_type": "stream",
          "text": [
            "[2016, 2017, 2018]\n",
            "[9930616, 9857426, 9838892]\n"
          ],
          "name": "stdout"
        }
      ]
    },
    {
      "cell_type": "markdown",
      "metadata": {
        "id": "2uVcH5pSled4"
      },
      "source": [
        "#11.7 연습문제: 인덱스가 홀수인 요소 출력하기\n",
        "\n",
        "###다음 소스 코드를 완성하여 튜플 n에서 인덱스가 홀수인 요소들이 출력되게 만드세요.<br>"
      ]
    },
    {
      "cell_type": "code",
      "metadata": {
        "colab": {
          "base_uri": "https://localhost:8080/"
        },
        "id": "GoGhEnuylWHK",
        "outputId": "3f4921f0-3db8-4e35-8a26-39062518a7db"
      },
      "source": [
        "n = -32, 75, 97, -10, 9, 32, 4, -15, 0, 76, 14, 2\n",
        " \n",
        "print(n[1::2])"
      ],
      "execution_count": 8,
      "outputs": [
        {
          "output_type": "stream",
          "text": [
            "(75, -10, 32, -15, 76, 2)\n"
          ],
          "name": "stdout"
        }
      ]
    },
    {
      "cell_type": "markdown",
      "metadata": {
        "id": "i8osODaqmBIl"
      },
      "source": [
        "#11.8 심사문제: 리스트의 마지막 부분 삭제하기\n",
        "\n",
        "###표준 입력으로 숫자 또는 문자열 여러 개가 입력되어 리스트 x에 저장됩니다(입력되는 숫자 또는 문자열의 개수는 정해져 있지 않음).<br> 다음 소스 코드를 완성하여 리스트 x의 마지막 요소 5개를 삭제한 뒤 튜플로 출력되게 만드세요.<br>"
      ]
    },
    {
      "cell_type": "code",
      "metadata": {
        "colab": {
          "base_uri": "https://localhost:8080/"
        },
        "id": "Mg7_JYNMl59e",
        "outputId": "54145f4e-28f3-4f95-e865-de07c0a868ad"
      },
      "source": [
        "x = input().split()\n",
        "\n",
        "del x[-5:]\n",
        "print(tuple(x))"
      ],
      "execution_count": 12,
      "outputs": [
        {
          "output_type": "stream",
          "text": [
            "1 2 3 4 5 6 7 8 9 10\n",
            "('1', '2', '3', '4', '5')\n"
          ],
          "name": "stdout"
        }
      ]
    },
    {
      "cell_type": "code",
      "metadata": {
        "colab": {
          "base_uri": "https://localhost:8080/"
        },
        "id": "0e6ecRsWmhbi",
        "outputId": "811005db-94a5-49e8-89e7-fce4359e712a"
      },
      "source": [
        "x = input().split()\n",
        "\n",
        "del x[-5:]\n",
        "print(tuple(x))"
      ],
      "execution_count": 13,
      "outputs": [
        {
          "output_type": "stream",
          "text": [
            "oven bat pony total leak wreck curl crop space navy loss knee\n",
            "('oven', 'bat', 'pony', 'total', 'leak', 'wreck', 'curl')\n"
          ],
          "name": "stdout"
        }
      ]
    },
    {
      "cell_type": "markdown",
      "metadata": {
        "id": "taJmOF_xnIBN"
      },
      "source": [
        "#11.9 심사문제: 문자열에서 인덱스가 홀수인 문자와 짝수인 문자 연결하기\n",
        "\n",
        "###표준 입력으로 문자열 두 개가 각 줄에 입력됩니다(문자열의 길이는 정해져 있지 않음).<br>첫 번째 문자열에서 인덱스가 홀수인 문자와 두 번째 문자열에서 인덱스가 짝수인 문자를 연결하여 출력하는 프로그램을 만드세요(input에서 안내 문자열은 출력하지 않아야 합니다).<br> 연결 순서는 첫 번째 문자열, 두 번째 문자열 순입니다. 그리고 0은 짝수로 처리합니다.<br>"
      ]
    },
    {
      "cell_type": "code",
      "metadata": {
        "colab": {
          "base_uri": "https://localhost:8080/"
        },
        "id": "WHiWouHTmliq",
        "outputId": "b033c39a-bc61-4b1f-8d58-e37fc5ac800e"
      },
      "source": [
        "a = input()\n",
        "b = input()\n",
        "print(a[1::2], b[::2], sep='')"
      ],
      "execution_count": 16,
      "outputs": [
        {
          "output_type": "stream",
          "text": [
            "python\n",
            "python\n",
            "yhnpto\n"
          ],
          "name": "stdout"
        }
      ]
    },
    {
      "cell_type": "code",
      "metadata": {
        "colab": {
          "base_uri": "https://localhost:8080/"
        },
        "id": "J6En5a25nnV9",
        "outputId": "798cfda4-2c82-47e5-f212-24c4f3a53544"
      },
      "source": [
        "a = input()\n",
        "b = input()\n",
        "print(a[1::2], b[::2], sep='')"
      ],
      "execution_count": 17,
      "outputs": [
        {
          "output_type": "stream",
          "text": [
            "apple\n",
            "strawberry\n",
            "plsrwer\n"
          ],
          "name": "stdout"
        }
      ]
    },
    {
      "cell_type": "markdown",
      "metadata": {
        "id": "RZbPzMfFoh1b"
      },
      "source": [
        "#12.4 연습문제: 딕셔너리에 게임 캐릭터 능력치 저장하기\n",
        "\n",
        "###다음 소스 코드를 완성하여 게임 캐릭터의 체력(health)과 이동 속도(movement speed)가 출력되게 만드세요."
      ]
    },
    {
      "cell_type": "code",
      "metadata": {
        "colab": {
          "base_uri": "https://localhost:8080/"
        },
        "id": "J_DByJZ8oLxw",
        "outputId": "29f99446-56db-4350-c860-f251247c2225"
      },
      "source": [
        "camille = {\n",
        "    'health': 575.6,\n",
        "    'health_regen': 1.7,\n",
        "    'mana': 338.8,\n",
        "    'mana_regen': 1.63,\n",
        "    'melee': 125,\n",
        "    'attack_damage': 60,\n",
        "    'attack_speed': 0.625,\n",
        "    'armor': 26,\n",
        "    'magic_resistance': 32.1,\n",
        "    'movement_speed': 340\n",
        "}\n",
        " \n",
        "print(camille['health'])\n",
        "print(camille['movement_speed'])\n"
      ],
      "execution_count": 20,
      "outputs": [
        {
          "output_type": "stream",
          "text": [
            "575.6\n",
            "340\n"
          ],
          "name": "stdout"
        }
      ]
    },
    {
      "cell_type": "markdown",
      "metadata": {
        "id": "O28vjvGbqpU8"
      },
      "source": [
        "#12.5 심사문제: 딕셔너리에 게임 캐릭터 능력치 저장하기\n",
        "\n",
        "### 표준 입력으로 문자열 여러 개와 숫자(실수) 여러 개가 두 줄로 입력됩니다.<br> 입력된 첫 번째 줄은 키, 두 번째 줄은 값으로 하여 딕셔너리를 생성한 뒤 딕셔너리를 출력하는 프로그램을 만드세요.<br> input().split()의 결과를 변수 한 개에 저장하면 리스트로 저장됩니다.<br>"
      ]
    },
    {
      "cell_type": "code",
      "metadata": {
        "colab": {
          "base_uri": "https://localhost:8080/"
        },
        "id": "EnTWFVA5qclq",
        "outputId": "3e1191fe-a040-4a2c-b65a-eac8cfd37d72"
      },
      "source": [
        "key = input().split()\n",
        "value = map(float, input().split())\n",
        "d = dict(zip((key), (value)))\n",
        "print(d)"
      ],
      "execution_count": 28,
      "outputs": [
        {
          "output_type": "stream",
          "text": [
            "health health_regen mana mana_regen\n",
            "575.6 1.7 338.8 1.63\n",
            "{'health': 575.6, 'health_regen': 1.7, 'mana': 338.8, 'mana_regen': 1.63}\n"
          ],
          "name": "stdout"
        }
      ]
    },
    {
      "cell_type": "code",
      "metadata": {
        "colab": {
          "base_uri": "https://localhost:8080/"
        },
        "id": "SND3UHDbrVlU",
        "outputId": "6064c6fe-4d74-46f7-dcf0-3823d54360ed"
      },
      "source": [
        "key = input().split()\n",
        "value = map(float, input().split()) #실수니까 float!!!\n",
        "d = dict(zip((key), (value)))      #key값에 리스트 사용금지 *딕셔너리도..\n",
        "print(d)\n"
      ],
      "execution_count": 31,
      "outputs": [
        {
          "output_type": "stream",
          "text": [
            "health mana melee attack_speed magic_resistance\n",
            "573.6 308.8 600 0.625 35.7\n",
            "{'health': 573.6, 'mana': 308.8, 'melee': 600.0, 'attack_speed': 0.625, 'magic_resistance': 35.7}\n"
          ],
          "name": "stdout"
        }
      ]
    },
    {
      "cell_type": "code",
      "metadata": {
        "id": "PIboyQtLsg4s"
      },
      "source": [
        ""
      ],
      "execution_count": null,
      "outputs": []
    }
  ]
}