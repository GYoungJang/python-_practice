{
  "nbformat": 4,
  "nbformat_minor": 0,
  "metadata": {
    "colab": {
      "name": "u16-19_반복문_연습.ipynb",
      "provenance": [],
      "collapsed_sections": []
    },
    "kernelspec": {
      "name": "python3",
      "display_name": "Python 3"
    },
    "language_info": {
      "name": "python"
    }
  },
  "cells": [
    {
      "cell_type": "markdown",
      "metadata": {
        "id": "4hkHI7ZEmxXL"
      },
      "source": [
        "#16.5 연습문제: 리스트의 요소에 10을 곱해서 출력하기\n",
        "\n",
        "### 다음 소스 코드를 완성하여 리스트 x에 들어있는 각 숫자(요소)에 10을 곱한 값이 출력되게 만드세요.<br> 모든 숫자는 공백으로 구분하여 한 줄로 출력되어야 합니다.<br>"
      ]
    },
    {
      "cell_type": "code",
      "metadata": {
        "colab": {
          "base_uri": "https://localhost:8080/"
        },
        "id": "8_74mTTPm5VS",
        "outputId": "b53041df-d92e-4b09-c38b-c9c0b1b7f66c"
      },
      "source": [
        "x = [49, -17, 25, 102, 8, 62, 21]\n",
        "\n",
        "for i in x :\n",
        "  print(i*10, end=' ')"
      ],
      "execution_count": 2,
      "outputs": [
        {
          "output_type": "stream",
          "text": [
            "490 -170 250 1020 80 620 210 "
          ],
          "name": "stdout"
        }
      ]
    },
    {
      "cell_type": "markdown",
      "metadata": {
        "id": "E4GAT4AWnsM8"
      },
      "source": [
        "#16.6 심사문제: 구구단 출력하기\n",
        "\n",
        "###표준 입력으로 정수가 입력됩니다. 입력된 정수의 구구단을 출력하는 프로그램을 만드세요(input에서 안내 문자열은 출력하지 않아야 합니다).<br> 출력 형식은 숫자 * 숫자 = 숫자처럼 만들고 숫자와 *, = 사이는 공백을 한 칸 띄웁니다.<br>"
      ]
    },
    {
      "cell_type": "code",
      "metadata": {
        "colab": {
          "base_uri": "https://localhost:8080/"
        },
        "id": "MTQ6ykJLnw9k",
        "outputId": "9ba99ac4-0639-4e9a-ce99-1907d6ba7eca"
      },
      "source": [
        "number = int(input())\n",
        "for i in range(1, 10) :\n",
        "  print(number,'*',i,'=', end='')\n",
        "  print(number*i)"
      ],
      "execution_count": 12,
      "outputs": [
        {
          "output_type": "stream",
          "text": [
            "7\n",
            "7 * 1 =7\n",
            "7 * 2 =14\n",
            "7 * 3 =21\n",
            "7 * 4 =28\n",
            "7 * 5 =35\n",
            "7 * 6 =42\n",
            "7 * 7 =49\n",
            "7 * 8 =56\n",
            "7 * 9 =63\n"
          ],
          "name": "stdout"
        }
      ]
    },
    {
      "cell_type": "code",
      "metadata": {
        "colab": {
          "base_uri": "https://localhost:8080/"
        },
        "id": "cLb9Q3LynivH",
        "outputId": "b7f4d1d7-ecfc-4502-bc77-05115542fc68"
      },
      "source": [
        "number = int(input())\n",
        "for i in range(1, 10) :\n",
        "  print(number, '*', i, '=', sep=' ', end=' ')      # 이게 더 정확한 답인가..\n",
        "  print(number*i)"
      ],
      "execution_count": 18,
      "outputs": [
        {
          "output_type": "stream",
          "text": [
            "7\n",
            "7 * 1 = 7\n",
            "7 * 2 = 14\n",
            "7 * 3 = 21\n",
            "7 * 4 = 28\n",
            "7 * 5 = 35\n",
            "7 * 6 = 42\n",
            "7 * 7 = 49\n",
            "7 * 8 = 56\n",
            "7 * 9 = 63\n"
          ],
          "name": "stdout"
        }
      ]
    },
    {
      "cell_type": "code",
      "metadata": {
        "colab": {
          "base_uri": "https://localhost:8080/"
        },
        "id": "5heV3tqpp4n4",
        "outputId": "5706a7c2-57df-4cb2-fb51-f361106dea5b"
      },
      "source": [
        "number = int(input())\n",
        "for i in range(1, 10) :\n",
        "  print(number,'*',i,'=', number*i)        #한 줄로 합치면 되는데.."
      ],
      "execution_count": 20,
      "outputs": [
        {
          "output_type": "stream",
          "text": [
            "7\n",
            "7 * 1 = 7\n",
            "7 * 2 = 14\n",
            "7 * 3 = 21\n",
            "7 * 4 = 28\n",
            "7 * 5 = 35\n",
            "7 * 6 = 42\n",
            "7 * 7 = 49\n",
            "7 * 8 = 56\n",
            "7 * 9 = 63\n"
          ],
          "name": "stdout"
        }
      ]
    },
    {
      "cell_type": "markdown",
      "metadata": {
        "id": "bWnZcUP5MPeJ"
      },
      "source": [
        "#17.5 연습문제: 변수 두 개를 다르게 반복하기\n",
        "\n",
        "###다음 소스 코드를 완성하여 정수 2 5, 4 4, 8 3, 16 2, 32 1이 각 줄에 출력되게 만드세요.<br> while에 조건식은 두 개 지정하고, 두 변수를 모두 변화시켜야 합니다.<br>"
      ]
    },
    {
      "cell_type": "code",
      "metadata": {
        "colab": {
          "base_uri": "https://localhost:8080/"
        },
        "id": "ZOGQJh-OSInL",
        "outputId": "8d3e3bb1-9020-4346-e6cb-b3de99997f04"
      },
      "source": [
        "i = 2\n",
        "j = 5\n",
        "\n",
        "while i < 32 or j !=0 :\n",
        "  print(i, j)\n",
        "  i *=2        \n",
        "  j -=1  "
      ],
      "execution_count": 3,
      "outputs": [
        {
          "output_type": "stream",
          "text": [
            "2 5\n",
            "4 4\n",
            "8 3\n",
            "16 2\n",
            "32 1\n"
          ],
          "name": "stdout"
        }
      ]
    },
    {
      "cell_type": "markdown",
      "metadata": {
        "id": "VnSFI8s3S4G1"
      },
      "source": [
        "#17.6 심사문제: 교통카드 잔액 출력하기\n",
        "\n",
        "###표준 입력으로 금액(정수)이 입력됩니다.<br> 1회당 요금은 1,350원이고, 교통카드를 사용했을 때마다의 잔액을 각 줄에 출력하는 프로그램을 만드세요(input에서 안내 문자열은 출력하지 않아야 합니다).<br> 단, 최초 금액은 출력하지 않아야 합니다.<br> 그리고 잔액은 음수가 될 수 없으며 잔액이 부족하면 출력을 끝냅니다.<br>"
      ]
    },
    {
      "cell_type": "code",
      "metadata": {
        "colab": {
          "base_uri": "https://localhost:8080/"
        },
        "id": "LApOh2xASSr5",
        "outputId": "2200b8fd-81c0-4efb-b26f-f57f455f8a36"
      },
      "source": [
        "price = int(input())\n",
        "\n",
        "while price >=0 :\n",
        "  print(price)             #이런 식으로는 최초 금액을 출력하지 못 하는 건가...\n",
        "  price -= 1350       "
      ],
      "execution_count": 22,
      "outputs": [
        {
          "output_type": "stream",
          "text": [
            "10000\n",
            "10000\n",
            "8650\n",
            "7300\n",
            "5950\n",
            "4600\n",
            "3250\n",
            "1900\n",
            "550\n"
          ],
          "name": "stdout"
        }
      ]
    },
    {
      "cell_type": "code",
      "metadata": {
        "colab": {
          "base_uri": "https://localhost:8080/"
        },
        "id": "n8JTvykdb_LM",
        "outputId": "0917d384-12c1-42f2-ae6a-f2358aae8664"
      },
      "source": [
        "money = int(input())\n",
        "\n",
        "while money >=1350 :\n",
        "  money -= 1350           # 이 과정의 논리를 생각해야..\n",
        "  print(money)             "
      ],
      "execution_count": 24,
      "outputs": [
        {
          "output_type": "stream",
          "text": [
            "13500\n",
            "12150\n",
            "10800\n",
            "9450\n",
            "8100\n",
            "6750\n",
            "5400\n",
            "4050\n",
            "2700\n",
            "1350\n",
            "0\n"
          ],
          "name": "stdout"
        }
      ]
    },
    {
      "cell_type": "markdown",
      "metadata": {
        "id": "i7B8-_mfnISs"
      },
      "source": [
        "#18.5 연습문제: 3으로 끝나는 숫자만 출력하기\n",
        "\n",
        "###다음 소스 코드를 완성하여 0과 73 사이의 숫자 중 3으로 끝나는 숫자만 출력되게 만드세요.<br>"
      ]
    },
    {
      "cell_type": "code",
      "metadata": {
        "colab": {
          "base_uri": "https://localhost:8080/"
        },
        "id": "3gAOwI0ShPek",
        "outputId": "e7308541-50dc-455b-ef86-3a1d8d221f25"
      },
      "source": [
        "i = 0\n",
        "while True:\n",
        "    if i % 10 != 3:      # 아예 생각을 못 했다.....\n",
        "      i += 1\n",
        "      continue         \n",
        "    if i > 73:\n",
        "      break\n",
        "    print(i, end=' ')\n",
        "    i += 1            # continue로 이것까지 건너뜀"
      ],
      "execution_count": 25,
      "outputs": [
        {
          "output_type": "stream",
          "text": [
            "3 13 23 33 43 53 63 73 "
          ],
          "name": "stdout"
        }
      ]
    },
    {
      "cell_type": "markdown",
      "metadata": {
        "id": "LiprwwearIpO"
      },
      "source": [
        "# 18.6 심사문제: 두 수 사이의 숫자 중 3으로 끝나지 않는 숫자 출력하기\n",
        "\n",
        "###표준 입력으로 정수 두 개가 입력됩니다(첫 번째 입력 값의 범위는 1~ 200, 두 번째 입력 값의 범위는 10~200이며 첫 번째 입력 값은 두 번째 입력 값보다 항상 작습니다).<br> 다음 소스 코드를 완성하여 첫 번째 정수와 두 번째 정수 사이의 숫자 중 3으로 끝나지 않는 숫자가 출력되게 만드세요.<br> 정답에 코드를 작성할 때는 while True:에 맞춰서 들여쓰기를 해주세요.<br>\n"
      ]
    },
    {
      "cell_type": "code",
      "metadata": {
        "colab": {
          "base_uri": "https://localhost:8080/"
        },
        "id": "rr9Lc1inqatD",
        "outputId": "8b86d702-ffda-4d1f-d2fd-ec5300970e3c"
      },
      "source": [
        "start, stop = map(int, input().split())\n",
        " \n",
        "i = start\n",
        " \n",
        "while True:\n",
        "  if i % 10 == 3 :\n",
        "    i += 1             # continue 전에 더해줘야..\n",
        "    continue\n",
        "\n",
        "  if i > stop :            #i랑 stop이 같으면 안됨\n",
        "    break\n",
        "  print(i, end=' ')\n",
        "  i += 1\n",
        "   \n"
      ],
      "execution_count": 42,
      "outputs": [
        {
          "output_type": "stream",
          "text": [
            "21 33\n",
            "21 22 24 25 26 27 28 29 30 31 32 "
          ],
          "name": "stdout"
        }
      ]
    },
    {
      "cell_type": "markdown",
      "metadata": {
        "id": "uKXK8mJ9_g8q"
      },
      "source": [
        "# 19 계단식으로 별 출력하기"
      ]
    },
    {
      "cell_type": "code",
      "metadata": {
        "colab": {
          "base_uri": "https://localhost:8080/"
        },
        "id": "XrhKBcpjswUR",
        "outputId": "16e81226-9463-4659-8924-ae547e8a731e"
      },
      "source": [
        "for i in range(5):          # 5번 반복. 바깥쪽 루프는 세로 방향\n",
        "    for j in range(5):      # 5번 반복. 안쪽 루프는 가로 방향\n",
        "        print('j:', j, sep='', end=' ')    # j값 출력. end에 ' '를 지정하여 줄바꿈 대신 한 칸 띄움\n",
        "    print('i:', i, '\\\\n', sep='')    # i값 출력, 개행 문자 모양도 출력\n",
        "                                     # 가로 방향으로 숫자를 모두 출력한 뒤 다음 줄로 넘어감\n",
        "                                     # (print는 기본적으로 출력 후 다음 줄로 넘어감)"
      ],
      "execution_count": 33,
      "outputs": [
        {
          "output_type": "stream",
          "text": [
            "j:0 j:1 j:2 j:3 j:4 i:0\\n\n",
            "j:0 j:1 j:2 j:3 j:4 i:1\\n\n",
            "j:0 j:1 j:2 j:3 j:4 i:2\\n\n",
            "j:0 j:1 j:2 j:3 j:4 i:3\\n\n",
            "j:0 j:1 j:2 j:3 j:4 i:4\\n\n"
          ],
          "name": "stdout"
        }
      ]
    },
    {
      "cell_type": "code",
      "metadata": {
        "colab": {
          "base_uri": "https://localhost:8080/"
        },
        "id": "B4fuZfxO0vmF",
        "outputId": "2da26723-5eeb-45c7-cfba-97d47b834142"
      },
      "source": [
        "for i in range(5):          # 5번 반복. 바깥쪽 루프는 세로 방향\n",
        "    for j in range(5):      # 5번 반복. 안쪽 루프는 가로 방향\n",
        "        print('j:', j, sep = '', end=' ')    # j값 출력. end에 ' '를 지정하여 줄바꿈 대신 한 칸 띄움\n",
        "    print('i:', i, '\\n')    # i값 출력, 개행 문자 모양도 출력\n",
        "                                     # 가로 방향으로 숫자를 모두 출력한 뒤 다음 줄로 넘어감\n",
        "                                     # (print는 기본적으로 출력 후 다음 줄로 넘어감)"
      ],
      "execution_count": 17,
      "outputs": [
        {
          "output_type": "stream",
          "text": [
            "j:0 j:1 j:2 j:3 j:4 i: 0 \n",
            "\n",
            "j:0 j:1 j:2 j:3 j:4 i: 1 \n",
            "\n",
            "j:0 j:1 j:2 j:3 j:4 i: 2 \n",
            "\n",
            "j:0 j:1 j:2 j:3 j:4 i: 3 \n",
            "\n",
            "j:0 j:1 j:2 j:3 j:4 i: 4 \n",
            "\n"
          ],
          "name": "stdout"
        }
      ]
    },
    {
      "cell_type": "code",
      "metadata": {
        "colab": {
          "base_uri": "https://localhost:8080/"
        },
        "id": "sYUSsR3w1CDT",
        "outputId": "75b6fd4d-c0ef-41dc-869b-09691d868042"
      },
      "source": [
        "for i in range(5):            # 5번 반복. 바깥쪽 루프는 세로 방향\n",
        "    for j in range(5):        # 5번 반복. 안쪽 루프는 가로 방향\n",
        "        print('*', end='')    # 별 출력. end에 ''를 지정하여 줄바꿈을 하지 않음\n",
        "    print()    # 가로 방향으로 별을 다 그린 뒤 다음 줄로 넘어감\n",
        "               # (print는 출력 후 기본적으로 다음 줄로 넘어감)\n"
      ],
      "execution_count": 24,
      "outputs": [
        {
          "output_type": "stream",
          "text": [
            "*****\n",
            "*****\n",
            "*****\n",
            "*****\n",
            "*****\n"
          ],
          "name": "stdout"
        }
      ]
    },
    {
      "cell_type": "markdown",
      "metadata": {
        "id": "qE9fJW_t_lmd"
      },
      "source": [
        "#19.5 연습문제: 역삼각형 모양으로 별 출력하기\n",
        "\n",
        "###다음 소스 코드를 완성하여 역삼각형 모양으로 별이 출력되게 만드세요.<br>"
      ]
    },
    {
      "cell_type": "code",
      "metadata": {
        "colab": {
          "base_uri": "https://localhost:8080/"
        },
        "id": "BXwla2m69i9L",
        "outputId": "33f8ab21-625a-4f57-c568-19f2f3c1083e"
      },
      "source": [
        "*****\n",
        " ****\n",
        "  ***\n",
        "   **\n",
        "    *\n",
        "\n",
        "\n",
        "for i in range(5):\n",
        "    for j in range(5):\n",
        "      if i <= j :           # 공백이 행에 맞춰서 증가하므로 i를 기준으로..\n",
        "        print('*', end = '')  \n",
        "    print()"
      ],
      "execution_count": 38,
      "outputs": [
        {
          "output_type": "stream",
          "text": [
            "*****\n",
            "****\n",
            "***\n",
            "**\n",
            "*\n"
          ],
          "name": "stdout"
        }
      ]
    },
    {
      "cell_type": "code",
      "metadata": {
        "colab": {
          "base_uri": "https://localhost:8080/"
        },
        "id": "NxJ2oHCfAGwi",
        "outputId": "a254800c-458c-47d7-e6f5-c74788bb502d"
      },
      "source": [
        "for i in range(5):\n",
        "    for j in range(5):\n",
        "      if j < i :           \n",
        "        print(' ', end = '')  \n",
        "      else :\n",
        "        print('*', end = '')\n",
        "    print()"
      ],
      "execution_count": 5,
      "outputs": [
        {
          "output_type": "stream",
          "text": [
            "*****\n",
            " ****\n",
            "  ***\n",
            "   **\n",
            "    *\n"
          ],
          "name": "stdout"
        }
      ]
    },
    {
      "cell_type": "markdown",
      "metadata": {
        "id": "_OGd6P3dTCZe"
      },
      "source": [
        "#19.6 심사문제: 산 모양으로 별 출력하기\n",
        "\n",
        "### 표준 입력으로 삼각형의 높이가 입력됩니다. <br>입력된 높이만큼 산 모양으로 별을 출력하는 프로그램을 만드세요(input에서 안내 문자열은 출력하지 않아야 합니다).<br> 이때 출력 결과는 예제와 정확히 일치해야 합니다.<br> 모양이 같더라도 공백이나 빈 줄이 더 들어가면 틀린 것으로 처리됩니다.<br>![스크린샷 2021-08-09 오후 11.49.26.png](data:image/png;base64,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)"
      ]
    },
    {
      "cell_type": "code",
      "metadata": {
        "colab": {
          "base_uri": "https://localhost:8080/"
        },
        "id": "bC1q8iQpEKWW",
        "outputId": "95340407-d6e8-450b-8d0d-9f85b947c9df"
      },
      "source": [
        "h = int(input())\n",
        "\n",
        "for i in range(h) :\n",
        "  for k in range(2*h-1) :                  #한번에 처리하기 곤란, 절반으로 나눠야해\n",
        "    print('*', end = ' ')\n",
        "  print()"
      ],
      "execution_count": 35,
      "outputs": [
        {
          "output_type": "stream",
          "text": [
            "3\n",
            "* * * * * \n",
            "* * * * * \n",
            "* * * * * \n"
          ],
          "name": "stdout"
        }
      ]
    },
    {
      "cell_type": "code",
      "metadata": {
        "colab": {
          "base_uri": "https://localhost:8080/"
        },
        "id": "EniUusTHdko2",
        "outputId": "f3ec9d95-9392-4757-824a-91e885171e68"
      },
      "source": [
        "height = int(input())\n",
        "for i in range(height):\n",
        "    for j in range(height):\n",
        "      if j > i:\n",
        "        print(' ', end='')\n",
        "      else :\n",
        "        print('*', e\n",
        "             "
      ],
      "execution_count": 56,
      "outputs": [
        {
          "output_type": "stream",
          "text": [
            "5\n",
            "*    **   ***  **** *****"
          ],
          "name": "stdout"
        }
      ]
    },
    {
      "cell_type": "code",
      "metadata": {
        "colab": {
          "base_uri": "https://localhost:8080/"
        },
        "id": "ykwn14bbayjE",
        "outputId": "8de02961-7e3d-4856-d3f4-6dc8ae14a205"
      },
      "source": [
        "h = int(input())\n",
        "for i in range(h):\n",
        "  print(''*(h-i), '*'*(2))"
      ],
      "execution_count": 43,
      "outputs": [
        {
          "output_type": "stream",
          "text": [
            "3\n",
            "\n",
            "\n",
            "\n"
          ],
          "name": "stdout"
        }
      ]
    },
    {
      "cell_type": "code",
      "metadata": {
        "colab": {
          "base_uri": "https://localhost:8080/"
        },
        "id": "AgNHUrn_cz61",
        "outputId": "48eb7e10-a4db-482b-9c0c-fa98fd1e9572"
      },
      "source": [
        "num = int(input())\n",
        "for i in range(num):\n",
        "    print(' '*(4-i), '*'*(2*i+1), sep = '')"
      ],
      "execution_count": 45,
      "outputs": [
        {
          "output_type": "stream",
          "text": [
            "3\n",
            "    *\n",
            "   ***\n",
            "  *****\n"
          ],
          "name": "stdout"
        }
      ]
    },
    {
      "cell_type": "code",
      "metadata": {
        "colab": {
          "base_uri": "https://localhost:8080/"
        },
        "id": "g6Edzl3Rh4yK",
        "outputId": "125aa138-80a4-4968-a179-531be32c163f"
      },
      "source": [
        "height = int(input())\n",
        "                                           # 아 모르겠다 나중에 다시 보자....\n",
        "for i in range(height):\n",
        "    for j in reversed(range(height)):\n",
        "        if j > i:\n",
        "            print(' ', end='')\n",
        "        else:\n",
        "            print('*', end='')\n",
        "    for j in range(height):              \n",
        "        if j < i:\n",
        "            print('*', end='')\n",
        "    print()"
      ],
      "execution_count": 61,
      "outputs": [
        {
          "output_type": "stream",
          "text": [
            "5\n",
            "    *\n",
            "   ***\n",
            "  *****\n",
            " *******\n",
            "*********\n"
          ],
          "name": "stdout"
        }
      ]
    },
    {
      "cell_type": "code",
      "metadata": {
        "id": "LIKn0N96nRYu"
      },
      "source": [
        ""
      ],
      "execution_count": null,
      "outputs": []
    }
  ]
}