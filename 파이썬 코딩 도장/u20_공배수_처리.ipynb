{
  "nbformat": 4,
  "nbformat_minor": 0,
  "metadata": {
    "colab": {
      "name": "u20 공배수 처리ipynb",
      "provenance": [],
      "collapsed_sections": []
    },
    "kernelspec": {
      "name": "python3",
      "display_name": "Python 3"
    },
    "language_info": {
      "name": "python"
    }
  },
  "cells": [
    {
      "cell_type": "markdown",
      "metadata": {
        "id": "kA0c4zrrHXhH"
      },
      "source": [
        "# 20.7 연습문제: 2과 11의 배수, 공배수 처리하기\n",
        "\n",
        "### 다음 소스 코드를 완성하여 1부터 100까지의 숫자를 출력하면서 2의 배수일 때는 'Fizz', 11의 배수일 때는 'Buzz', 2과 11의 공배수일 때는 'FizzBuzz'가 출력되게 만드세요.<br>\n",
        "\n",
        "for i in range(1, 101):<br>\n",
        "    if ①                          : <br>\n",
        "        print('FizzBuzz') <br>\n",
        "    elif ②          : <br>\n",
        "        print('Fizz') <br>\n",
        "    elif ③          : <br>\n",
        "        print('Buzz') <br>\n",
        "    else: <br>\n",
        "        print(i) <br>\n",
        "\n",
        "\n",
        "실행결과\n",
        "\n",
        "1\n",
        "Fizz\n",
        "3\n",
        "... (생략)\n",
        "FizzBuzz\n",
        "89\n",
        "Fizz\n",
        "91\n",
        "Fizz\n",
        "93\n",
        "Fizz\n",
        "95\n",
        "Fizz\n",
        "97\n",
        "Fizz\n",
        "Buzz\n",
        "Fizz"
      ]
    },
    {
      "cell_type": "code",
      "metadata": {
        "colab": {
          "base_uri": "https://localhost:8080/"
        },
        "id": "-kfbjWkMHLI-",
        "outputId": "ab3daab1-c185-4eff-cd63-f58e11cf0e9a"
      },
      "source": [
        "for i in range(1, 101):\n",
        "  if i % 2 == 0 and i % 11 == 0:\n",
        "    print('FizzBuzz', end=' ')\n",
        "  elif i % 2 == 0:\n",
        "    print('Fizz', end=' ')\n",
        "  elif i % 11 == 0:\n",
        "    print('Buzz', end=' ')\n",
        "  else:\n",
        "     print(i, end=' ')\n",
        "\n",
        "\n"
      ],
      "execution_count": 27,
      "outputs": [
        {
          "output_type": "stream",
          "text": [
            "1 Fizz 3 Fizz 5 Fizz 7 Fizz 9 Fizz Buzz Fizz 13 Fizz 15 Fizz 17 Fizz 19 Fizz 21 FizzBuzz 23 Fizz 25 Fizz 27 Fizz 29 Fizz 31 Fizz Buzz Fizz 35 Fizz 37 Fizz 39 Fizz 41 Fizz 43 FizzBuzz 45 Fizz 47 Fizz 49 Fizz 51 Fizz 53 Fizz Buzz Fizz 57 Fizz 59 Fizz 61 Fizz 63 Fizz 65 FizzBuzz 67 Fizz 69 Fizz 71 Fizz 73 Fizz 75 Fizz Buzz Fizz 79 Fizz 81 Fizz 83 Fizz 85 Fizz 87 FizzBuzz 89 Fizz 91 Fizz 93 Fizz 95 Fizz 97 Fizz Buzz Fizz "
          ],
          "name": "stdout"
        }
      ]
    },
    {
      "cell_type": "markdown",
      "metadata": {
        "id": "JGJ_AMvnKlO-"
      },
      "source": [
        "# 20.8 심사문제: 5와 7의 배수, 공배수 처리하기\n",
        "\n",
        "표준 입력으로 정수 두 개가 입력됩니다(첫 번째 입력 값의 범위는 1~ 1000, 두 번째 입력 값의 범위는 10~1000이며 첫 번째 입력 값은 두 번째 입력 값보다 항상 작습니다).<br> 첫 번째 정수부터 두 번째 정수까지 숫자를 출력하면서 5의 배수일 때는 'Fizz', 7의 배수일 때는 'Buzz', 5와 7의 공배수일 때는 'FizzBuzz'를 출력하는 프로그램을 만드세요(input에서 안내 문자열은 출력하지 않아야 합니다).<br>"
      ]
    },
    {
      "cell_type": "code",
      "metadata": {
        "colab": {
          "base_uri": "https://localhost:8080/"
        },
        "id": "9e9DVYcBIUKY",
        "outputId": "6db0b108-8c13-4204-fc7b-f2b6e000dba2"
      },
      "source": [
        "N1, N2 = map(int,input().split())\n",
        "\n",
        "for i in range(N1, N2 + 1):\n",
        "  if i % 5 == 0 and i % 7 == 0:\n",
        "    print('FizzBuzz')\n",
        "  elif i % 5 == 0:\n",
        "    print('Fizz')\n",
        "  elif i % 7 == 0:\n",
        "    print('Buzz')\n",
        "  else :\n",
        "    print(i)"
      ],
      "execution_count": 35,
      "outputs": [
        {
          "output_type": "stream",
          "text": [
            "35 40\n",
            "FizzBuzz\n",
            "36\n",
            "37\n",
            "38\n",
            "39\n",
            "Fizz\n"
          ],
          "name": "stdout"
        }
      ]
    },
    {
      "cell_type": "code",
      "metadata": {
        "id": "kkOikmxSNJoC"
      },
      "source": [
        ""
      ],
      "execution_count": null,
      "outputs": []
    }
  ]
}