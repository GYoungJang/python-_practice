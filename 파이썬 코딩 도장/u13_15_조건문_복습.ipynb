{
  "nbformat": 4,
  "nbformat_minor": 0,
  "metadata": {
    "colab": {
      "name": "u13-15_조건문_복습.ipynb",
      "provenance": [],
      "collapsed_sections": []
    },
    "kernelspec": {
      "name": "python3",
      "display_name": "Python 3"
    },
    "language_info": {
      "name": "python"
    }
  },
  "cells": [
    {
      "cell_type": "code",
      "metadata": {
        "colab": {
          "base_uri": "https://localhost:8080/"
        },
        "id": "cM7VPRRmqh8Z",
        "outputId": "5db558a9-834c-4cd7-aa17-23fb4d5e7a68"
      },
      "source": [
        "a = int(input())\n",
        "a -= 5000\n",
        "print(a)"
      ],
      "execution_count": 13,
      "outputs": [
        {
          "output_type": "stream",
          "text": [
            "10000\n",
            "5000\n"
          ],
          "name": "stdout"
        }
      ]
    },
    {
      "cell_type": "markdown",
      "metadata": {
        "id": "ytc24Y23q1h4"
      },
      "source": [
        "#13.6 연습문제: if 조건문 사용하기\n",
        "\n",
        "###다음 소스 코드를 완성하여 x의 값이 10이 아닐 때 'ok'가 출력되게 만드세요.<br>"
      ]
    },
    {
      "cell_type": "code",
      "metadata": {
        "colab": {
          "base_uri": "https://localhost:8080/"
        },
        "id": "gumERDizrAQV",
        "outputId": "3414174d-54f0-4361-9f7c-1344d3de7df1"
      },
      "source": [
        "x = 5\n",
        " \n",
        "if x != 10:\n",
        "    print('ok')"
      ],
      "execution_count": 1,
      "outputs": [
        {
          "output_type": "stream",
          "text": [
            "ok\n"
          ],
          "name": "stdout"
        }
      ]
    },
    {
      "cell_type": "markdown",
      "metadata": {
        "id": "wV6o-kIqrR_4"
      },
      "source": [
        "#13.7 심사문제: 온라인 할인 쿠폰 시스템 만들기\n",
        "\n",
        "###표준 입력으로 가격(정수)과 쿠폰 이름이 각 줄에 입력됩니다.<br> Cash3000 쿠폰은 3,000원, Cash5000 쿠폰은 5,000원을 할인합니다.<br> 쿠폰에 따라 할인된 가격을 출력하는 프로그램을 만드세요(input에서 안내 문자열은 출력하지 않아야 합니다).<br>"
      ]
    },
    {
      "cell_type": "code",
      "metadata": {
        "colab": {
          "base_uri": "https://localhost:8080/"
        },
        "id": "WGXQqBCcrKvk",
        "outputId": "ce02da76-469d-484e-c905-ff95d42cfcf9"
      },
      "source": [
        "price = int(input())\n",
        "coupon = input()\n",
        "if coupon == 'Cash3000':             # if문에서 == 기억!\n",
        "  print(price - 3000)                # 가격을 price -= 3000 이렇게 지정하고 마지막에 print해도 됨!\n",
        "if coupon == 'Cash5000':\n",
        "  print(price - 5000)"
      ],
      "execution_count": 10,
      "outputs": [
        {
          "output_type": "stream",
          "text": [
            "27000\n",
            "Cash3000\n",
            "24000\n"
          ],
          "name": "stdout"
        }
      ]
    },
    {
      "cell_type": "code",
      "metadata": {
        "colab": {
          "base_uri": "https://localhost:8080/"
        },
        "id": "upUl7BJ5rzHu",
        "outputId": "ef6313ac-5d48-40a7-c0a1-a36f209039a6"
      },
      "source": [
        "price = int(input())\n",
        "coupon = input()\n",
        "if coupon == 'Cash3000': \n",
        "  price -= 3000\n",
        "if coupon == 'Cash5000':\n",
        "  price -= 5000\n",
        "print(price)"
      ],
      "execution_count": 11,
      "outputs": [
        {
          "output_type": "stream",
          "text": [
            "27000\n",
            "Cash3000\n",
            "24000\n"
          ],
          "name": "stdout"
        }
      ]
    },
    {
      "cell_type": "markdown",
      "metadata": {
        "id": "cH2m2yFTzbUy"
      },
      "source": [
        "#14.6 연습문제: 합격 여부 판단하기\n",
        "### A 기업의 입사 시험은 필기 시험 점수가 80점 이상이면서 코딩 시험을 통과해야 합격이라고 정했습니다(코딩 시험 통과 여부는 True, False로 구분).<br> 다음 소스 코드를 완성하여 '합격', '불합격'이 출력되게 만드세요.<br>"
      ]
    },
    {
      "cell_type": "code",
      "metadata": {
        "colab": {
          "base_uri": "https://localhost:8080/"
        },
        "id": "qKez51M6zbE5",
        "outputId": "22a24e3b-c885-495f-d82e-e98ee7c9dd74"
      },
      "source": [
        "written_test = 75\n",
        "coding_test = True\n",
        " \n",
        "if written_test >= 80 and coding_test == True:\n",
        "    print('합격')\n",
        "else:\n",
        "    print('불합격')"
      ],
      "execution_count": 14,
      "outputs": [
        {
          "output_type": "stream",
          "text": [
            "불합격\n"
          ],
          "name": "stdout"
        }
      ]
    },
    {
      "cell_type": "markdown",
      "metadata": {
        "id": "D2jCsdmD0PJ8"
      },
      "source": [
        "#14.7 심사문제: 합격 여부 판단하기\n",
        "\n",
        "### 표준 입력으로 국어, 영어, 수학, 과학 점수가 입력됩니다.<br> 여기서 네 과목의 평균 점수가 80점 이상일 때 합격이라고 정했습니다.<br> 평균 점수에 따라 '합격', '불합격'을 출력하는 프로그램을 만드세요(input에서 안내 문자열은 출력하지 않아야 합니다).<br> 단, 점수는 0점부터 100점까지만 입력받을 수 있으며 범위를 벗어났다면 '잘못된 점수'를 출력하고 합격, 불합격 여부는 출력하지 않아야 합니다.<br>"
      ]
    },
    {
      "cell_type": "code",
      "metadata": {
        "colab": {
          "base_uri": "https://localhost:8080/",
          "height": 249
        },
        "id": "J4OOeoOIury2",
        "outputId": "a1fafaa7-b8ae-41ee-895b-5e18bd0e7943"
      },
      "source": [
        "score = list(map(int, input().split()))\n",
        "if sum(score) / len(score) >= 80 :\n",
        "  print('합격')\n",
        "else :\n",
        "  print('불합격')\n",
        "if score < 0 or score >100 :              # score는 리스트니까 바로 비교 불가! min, max 함수 사용!\n",
        "  print('잘못된 점수')"
      ],
      "execution_count": 17,
      "outputs": [
        {
          "output_type": "stream",
          "text": [
            "89 72 93 82\n",
            "합격\n"
          ],
          "name": "stdout"
        },
        {
          "output_type": "error",
          "ename": "TypeError",
          "evalue": "ignored",
          "traceback": [
            "\u001b[0;31m---------------------------------------------------------------------------\u001b[0m",
            "\u001b[0;31mTypeError\u001b[0m                                 Traceback (most recent call last)",
            "\u001b[0;32m<ipython-input-17-401a0e0441cb>\u001b[0m in \u001b[0;36m<module>\u001b[0;34m()\u001b[0m\n\u001b[1;32m      4\u001b[0m \u001b[0;32melse\u001b[0m \u001b[0;34m:\u001b[0m\u001b[0;34m\u001b[0m\u001b[0;34m\u001b[0m\u001b[0m\n\u001b[1;32m      5\u001b[0m   \u001b[0mprint\u001b[0m\u001b[0;34m(\u001b[0m\u001b[0;34m'불합격'\u001b[0m\u001b[0;34m)\u001b[0m\u001b[0;34m\u001b[0m\u001b[0;34m\u001b[0m\u001b[0m\n\u001b[0;32m----> 6\u001b[0;31m \u001b[0;32mif\u001b[0m \u001b[0mscore\u001b[0m \u001b[0;34m<\u001b[0m \u001b[0;36m0\u001b[0m \u001b[0;32mor\u001b[0m \u001b[0mscore\u001b[0m \u001b[0;34m>\u001b[0m\u001b[0;36m100\u001b[0m \u001b[0;34m:\u001b[0m\u001b[0;34m\u001b[0m\u001b[0;34m\u001b[0m\u001b[0m\n\u001b[0m\u001b[1;32m      7\u001b[0m   \u001b[0mprint\u001b[0m\u001b[0;34m(\u001b[0m\u001b[0;34m'잘못된 점수'\u001b[0m\u001b[0;34m)\u001b[0m\u001b[0;34m\u001b[0m\u001b[0;34m\u001b[0m\u001b[0m\n",
            "\u001b[0;31mTypeError\u001b[0m: '<' not supported between instances of 'list' and 'int'"
          ]
        }
      ]
    },
    {
      "cell_type": "code",
      "metadata": {
        "colab": {
          "base_uri": "https://localhost:8080/"
        },
        "id": "L2SG3fSU08AN",
        "outputId": "622ab57f-79e2-43e9-d097-6aaff49fe2ba"
      },
      "source": [
        "score = list(map(int, input().split()))\n",
        "if sum(score) / len(score) >= 80 :\n",
        "  print('합격')\n",
        "else :\n",
        "  print('불합격')\n",
        "if min(score) < 0 or max(score) >100 :              \n",
        "  print('잘못된 점수')"
      ],
      "execution_count": 18,
      "outputs": [
        {
          "output_type": "stream",
          "text": [
            "89 72 93 82\n",
            "합격\n"
          ],
          "name": "stdout"
        }
      ]
    },
    {
      "cell_type": "code",
      "metadata": {
        "colab": {
          "base_uri": "https://localhost:8080/"
        },
        "id": "8GVfoHNg3sKJ",
        "outputId": "92cf25a7-06aa-49b5-a14d-10acb3540361"
      },
      "source": [
        "score = list(map(int, input().split()))\n",
        "if sum(score) / len(score) >= 80 :\n",
        "  print('합격')\n",
        "else :\n",
        "  print('불합격')\n",
        "if min(score) < 0 or max(score) >100 :              \n",
        "  print('잘못된 점수')"
      ],
      "execution_count": 19,
      "outputs": [
        {
          "output_type": "stream",
          "text": [
            "100 79 68 71\n",
            "불합격\n"
          ],
          "name": "stdout"
        }
      ]
    },
    {
      "cell_type": "code",
      "metadata": {
        "colab": {
          "base_uri": "https://localhost:8080/"
        },
        "id": "SsIj-MWY3xmH",
        "outputId": "c3405e63-f7d2-43b7-bc49-ee34e29b74fa"
      },
      "source": [
        "score = list(map(int, input().split()))\n",
        "if sum(score) / len(score) >= 80 :\n",
        "  print('합격')\n",
        "else :\n",
        "  print('불합격')\n",
        "if min(score) < 0 or max(score) >100 :              \n",
        "  print('잘못된 점수')                      #합격이 나오면 안 되니까...순서를 바꿔줘야 한다.."
      ],
      "execution_count": 25,
      "outputs": [
        {
          "output_type": "stream",
          "text": [
            "99 85 101 90\n",
            "합격\n",
            "잘못된 점수\n"
          ],
          "name": "stdout"
        }
      ]
    },
    {
      "cell_type": "code",
      "metadata": {
        "colab": {
          "base_uri": "https://localhost:8080/"
        },
        "id": "YiipMSmw30HA",
        "outputId": "751c7ebe-e77c-4379-b761-6e6f86fc2aae"
      },
      "source": [
        "score = list(map(int, input().split()))\n",
        "if min(score) < 0 or max(score) >100 :              \n",
        "  print('잘못된 점수')\n",
        "else :           #합격, 불합격 여부 출력이 안 되려면 순서뿐만 아니고 조건이 걸려야... \n",
        "  if sum(score) / len(score) >= 80 :\n",
        "    print('합격')\n",
        "  else :\n",
        "    print('불합격')"
      ],
      "execution_count": 26,
      "outputs": [
        {
          "output_type": "stream",
          "text": [
            "99 85 101 90\n",
            "잘못된 점수\n"
          ],
          "name": "stdout"
        }
      ]
    },
    {
      "cell_type": "markdown",
      "metadata": {
        "id": "YBR9Ak2b7E8J"
      },
      "source": [
        "#15.3 연습문제: if, elif, else 모두 사용하기\n",
        "\n",
        "### 다음 소스 코드를 완성하여 변수 x가 11과 20 사이면 '11~ 20', 21과 30 사이면 '21~30', 아무것도 해당하지 않으면 '아무것도 해당하지 않음'이 출력되게 만드세요."
      ]
    },
    {
      "cell_type": "code",
      "metadata": {
        "colab": {
          "base_uri": "https://localhost:8080/"
        },
        "id": "H9quicX06tDm",
        "outputId": "60a442bf-a54b-421f-d741-1ae8a22f32fe"
      },
      "source": [
        "x = int(input())\n",
        "\n",
        "if 11<= x <=20 :\n",
        "  print('11~20')\n",
        "elif 21<= x <=30 :\n",
        "  print('21~30')\n",
        "else :\n",
        "  print('아무것도 해당하지 않음')"
      ],
      "execution_count": 29,
      "outputs": [
        {
          "output_type": "stream",
          "text": [
            "5\n",
            "아무것도 해당하지 않음\n"
          ],
          "name": "stdout"
        }
      ]
    },
    {
      "cell_type": "markdown",
      "metadata": {
        "id": "mQw_vdom79zy"
      },
      "source": [
        "#15.4 심사문제: 교통카드 시스템 만들기\n",
        "\n",
        "###표준 입력으로 나이(만 나이)가 입력됩니다(입력 값은 7 이상 입력됨).<br> 교통카드 시스템에서 시내버스 요금은 다음과 같으며 각 나이에 맞게 요금을 차감한 뒤 잔액이 출력되게 만드세요(if, elif 사용).<br> 현재 교통카드에는 9,000원이 들어있습니다.<br>\n",
        "- 어린이(초등학생, 만 7세 이상 12세 이하): 650원\n",
        "- 청소년(중∙고등학생, 만 13세 이상 18세 이하): 1,050원\n",
        "- 어른(일반, 만 19세 이상): 1,250원"
      ]
    },
    {
      "cell_type": "code",
      "metadata": {
        "colab": {
          "base_uri": "https://localhost:8080/"
        },
        "id": "mdjU3Lma7zKR",
        "outputId": "104ad3f0-0115-43d4-d26a-5d81e0136ffd"
      },
      "source": [
        "age = int(input())\n",
        "balance = 9000    # 교통카드 잔액\n",
        "\n",
        "if 7<= age <=12 :\n",
        "  balance -= 650            # 빼고 저장까지!\n",
        "elif 13<= age <= 18 :\n",
        "  balance -= 1050\n",
        "elif 19<= age:    \n",
        "  balance -= 1250\n",
        "\n",
        "print(balance)"
      ],
      "execution_count": 31,
      "outputs": [
        {
          "output_type": "stream",
          "text": [
            "12\n",
            "8350\n"
          ],
          "name": "stdout"
        }
      ]
    },
    {
      "cell_type": "code",
      "metadata": {
        "id": "YrneLGt-9UF6"
      },
      "source": [
        ""
      ],
      "execution_count": null,
      "outputs": []
    }
  ]
}